{
 "cells": [
  {
   "cell_type": "markdown",
   "id": "f84cdf8e",
   "metadata": {
    "papermill": {
     "duration": 0.011067,
     "end_time": "2024-10-20T10:09:12.940469",
     "exception": false,
     "start_time": "2024-10-20T10:09:12.929402",
     "status": "completed"
    },
    "tags": []
   },
   "source": [
    "**This notebook is an exercise in the [Python](https://www.kaggle.com/learn/python) course.  You can reference the tutorial at [this link](https://www.kaggle.com/colinmorris/hello-python).**\n",
    "\n",
    "---\n"
   ]
  },
  {
   "cell_type": "markdown",
   "id": "854418f7",
   "metadata": {
    "papermill": {
     "duration": 0.009051,
     "end_time": "2024-10-20T10:09:12.959042",
     "exception": false,
     "start_time": "2024-10-20T10:09:12.949991",
     "status": "completed"
    },
    "tags": []
   },
   "source": [
    "Welcome to your first set of Python coding problems.  If this is your first time using Kaggle Notebooks, welcome! \n",
    "\n",
    "Notebooks are composed of blocks (called \"cells\") of text and code. Each of these is editable, though you'll mainly be editing the code cells to answer some questions.\n",
    "\n",
    "To get started, try running the code cell below (by pressing the ► button, or clicking on the cell and pressing ctrl+enter on your keyboard)."
   ]
  },
  {
   "cell_type": "code",
   "execution_count": 1,
   "id": "1929a42b",
   "metadata": {
    "execution": {
     "iopub.execute_input": "2024-10-20T10:09:12.979440Z",
     "iopub.status.busy": "2024-10-20T10:09:12.979006Z",
     "iopub.status.idle": "2024-10-20T10:09:12.992413Z",
     "shell.execute_reply": "2024-10-20T10:09:12.991188Z"
    },
    "papermill": {
     "duration": 0.026373,
     "end_time": "2024-10-20T10:09:12.994770",
     "exception": false,
     "start_time": "2024-10-20T10:09:12.968397",
     "status": "completed"
    },
    "tags": []
   },
   "outputs": [
    {
     "name": "stdout",
     "output_type": "stream",
     "text": [
      "You've successfully run some Python code\n",
      "Congratulations!\n",
      "Hello world\n"
     ]
    }
   ],
   "source": [
    "print(\"You've successfully run some Python code\")\n",
    "print(\"Congratulations!\")\n",
    "print(\"Hello world\")"
   ]
  },
  {
   "cell_type": "code",
   "execution_count": 2,
   "id": "5ae81274",
   "metadata": {
    "execution": {
     "iopub.execute_input": "2024-10-20T10:09:13.015928Z",
     "iopub.status.busy": "2024-10-20T10:09:13.015525Z",
     "iopub.status.idle": "2024-10-20T10:09:13.021081Z",
     "shell.execute_reply": "2024-10-20T10:09:13.020065Z"
    },
    "papermill": {
     "duration": 0.018963,
     "end_time": "2024-10-20T10:09:13.023522",
     "exception": false,
     "start_time": "2024-10-20T10:09:13.004559",
     "status": "completed"
    },
    "tags": []
   },
   "outputs": [
    {
     "name": "stdout",
     "output_type": "stream",
     "text": [
      "hello world\n",
      "python\n"
     ]
    }
   ],
   "source": [
    "print('hello world')\n",
    "print('python')"
   ]
  },
  {
   "cell_type": "markdown",
   "id": "511d5f5f",
   "metadata": {
    "papermill": {
     "duration": 0.009266,
     "end_time": "2024-10-20T10:09:13.043483",
     "exception": false,
     "start_time": "2024-10-20T10:09:13.034217",
     "status": "completed"
    },
    "tags": []
   },
   "source": [
    "Try adding another line of code in the cell above and re-running it. \n",
    "\n",
    "Now let's get a little fancier:  Add a new code cell by clicking on an existing code cell, hitting the escape key, and then hitting the `a` or `b` key.  The `a` key will add a cell above the current cell, and `b` adds a cell below.\n",
    "\n",
    "Great! Now you know how to use Notebooks.\n",
    "\n",
    "Each hands-on exercise starts by setting up our feedback and code checking mechanism. Run the code cell below to do that. Then you'll be ready to move on to question 0."
   ]
  },
  {
   "cell_type": "code",
   "execution_count": 3,
   "id": "f82d3b19",
   "metadata": {
    "_kg_hide-input": true,
    "_kg_hide-output": true,
    "execution": {
     "iopub.execute_input": "2024-10-20T10:09:13.064729Z",
     "iopub.status.busy": "2024-10-20T10:09:13.063891Z",
     "iopub.status.idle": "2024-10-20T10:09:14.052153Z",
     "shell.execute_reply": "2024-10-20T10:09:14.050960Z"
    },
    "papermill": {
     "duration": 1.001691,
     "end_time": "2024-10-20T10:09:14.054758",
     "exception": false,
     "start_time": "2024-10-20T10:09:13.053067",
     "status": "completed"
    },
    "tags": []
   },
   "outputs": [
    {
     "name": "stdout",
     "output_type": "stream",
     "text": [
      "Setup complete! You're ready to start question 0.\n"
     ]
    }
   ],
   "source": [
    "from learntools.core import binder; binder.bind(globals())\n",
    "from learntools.python.ex1 import *\n",
    "print(\"Setup complete! You're ready to start question 0.\")"
   ]
  },
  {
   "cell_type": "markdown",
   "id": "296d2cab",
   "metadata": {
    "papermill": {
     "duration": 0.009519,
     "end_time": "2024-10-20T10:09:14.074258",
     "exception": false,
     "start_time": "2024-10-20T10:09:14.064739",
     "status": "completed"
    },
    "tags": []
   },
   "source": [
    "# 0.\n",
    "\n",
    "*This is a silly question intended as an introduction to the format we use for hands-on exercises throughout all Kaggle courses.*\n",
    "\n",
    "**What is your favorite color? **\n",
    "\n",
    "To complete this question, create a variable called `color` in the cell below with an appropriate value. The function call `q0.check()` (which we've already provided in the cell below) will check your answer."
   ]
  },
  {
   "cell_type": "code",
   "execution_count": 4,
   "id": "c0634e4c",
   "metadata": {
    "execution": {
     "iopub.execute_input": "2024-10-20T10:09:14.095528Z",
     "iopub.status.busy": "2024-10-20T10:09:14.094977Z",
     "iopub.status.idle": "2024-10-20T10:09:14.106491Z",
     "shell.execute_reply": "2024-10-20T10:09:14.105506Z"
    },
    "papermill": {
     "duration": 0.024988,
     "end_time": "2024-10-20T10:09:14.108936",
     "exception": false,
     "start_time": "2024-10-20T10:09:14.083948",
     "status": "completed"
    },
    "tags": []
   },
   "outputs": [
    {
     "name": "stdout",
     "output_type": "stream",
     "text": [
      "blue\n"
     ]
    },
    {
     "data": {
      "application/javascript": [
       "parent.postMessage({\"jupyterEvent\": \"custom.exercise_interaction\", \"data\": {\"outcomeType\": 1, \"valueTowardsCompletion\": 0.25, \"interactionType\": 1, \"questionType\": 2, \"questionId\": \"0_ExerciseFormatTutorial\", \"learnToolsVersion\": \"0.3.4\", \"failureMessage\": \"\", \"exceptionClass\": \"\", \"trace\": \"\"}}, \"*\")"
      ],
      "text/plain": [
       "<IPython.core.display.Javascript object>"
      ]
     },
     "metadata": {},
     "output_type": "display_data"
    },
    {
     "data": {
      "text/markdown": [
       "<span style=\"color:#33cc33\">Correct:</span> What?! You got it right without needing a hint or anything? Drats. Well hey, you should still continue to the next step to get some practice asking for a hint and checking solutions. (Even though you obviously don't need any help here.)"
      ],
      "text/plain": [
       "Correct: What?! You got it right without needing a hint or anything? Drats. Well hey, you should still continue to the next step to get some practice asking for a hint and checking solutions. (Even though you obviously don't need any help here.)"
      ]
     },
     "metadata": {},
     "output_type": "display_data"
    }
   ],
   "source": [
    "# create a variable called color with an appropriate value on the line below\n",
    "# (Remember, strings in Python must be enclosed in 'single' or \"double\" quotes)\n",
    "color='blue'\n",
    "print(color)\n",
    "\n",
    "\n",
    "# Check your answer\n",
    "q0.check()"
   ]
  },
  {
   "cell_type": "markdown",
   "id": "8d2167bf",
   "metadata": {
    "papermill": {
     "duration": 0.010014,
     "end_time": "2024-10-20T10:09:14.129687",
     "exception": false,
     "start_time": "2024-10-20T10:09:14.119673",
     "status": "completed"
    },
    "tags": []
   },
   "source": [
    "Didn't get the right answer? How do you not even know your own favorite color?!\n",
    "\n",
    "Delete the `#` in the line below to make one of the lines run. You can choose between getting a hint or the full answer by choosing which line to remove the `#` from. \n",
    "\n",
    "Removing the `#` is called uncommenting, because it changes that line from a \"comment\" which Python doesn't run to code, which Python does run."
   ]
  },
  {
   "cell_type": "code",
   "execution_count": 5,
   "id": "2eba0159",
   "metadata": {
    "execution": {
     "iopub.execute_input": "2024-10-20T10:09:14.151839Z",
     "iopub.status.busy": "2024-10-20T10:09:14.151416Z",
     "iopub.status.idle": "2024-10-20T10:09:14.155959Z",
     "shell.execute_reply": "2024-10-20T10:09:14.154894Z"
    },
    "papermill": {
     "duration": 0.018358,
     "end_time": "2024-10-20T10:09:14.158231",
     "exception": false,
     "start_time": "2024-10-20T10:09:14.139873",
     "status": "completed"
    },
    "tags": []
   },
   "outputs": [],
   "source": [
    "#q0.hint()\n",
    "#q0.solution()\n",
    "#q0.check()"
   ]
  },
  {
   "cell_type": "markdown",
   "id": "c7e7cbb7",
   "metadata": {
    "papermill": {
     "duration": 0.0099,
     "end_time": "2024-10-20T10:09:14.178387",
     "exception": false,
     "start_time": "2024-10-20T10:09:14.168487",
     "status": "completed"
    },
    "tags": []
   },
   "source": [
    "The upcoming questions work the same way. The only thing that will change are the question numbers. For the next question, you'll call `q1.check()`, `q1.hint()`, `q1.solution()`, for question 2, you'll call `q2.check()`, and so on."
   ]
  },
  {
   "cell_type": "markdown",
   "id": "5c476a99",
   "metadata": {
    "papermill": {
     "duration": 0.009937,
     "end_time": "2024-10-20T10:09:14.198643",
     "exception": false,
     "start_time": "2024-10-20T10:09:14.188706",
     "status": "completed"
    },
    "tags": []
   },
   "source": [
    "<hr/>\n",
    "\n",
    "# 1.\n",
    "\n",
    "Complete the code below. In case it's helpful, here is the table of available arithmetic operations:\n",
    "\n",
    "\n",
    "\n",
    "| Operator     | Name           | Description                                            |\n",
    "|--------------|----------------|--------------------------------------------------------|\n",
    "| ``a + b``    | Addition       | Sum of ``a`` and ``b``                                 |\n",
    "| ``a - b``    | Subtraction    | Difference of ``a`` and ``b``                          |\n",
    "| ``a * b``    | Multiplication | Product of ``a`` and ``b``                             |\n",
    "| ``a / b``    | True division  | Quotient of ``a`` and ``b``                            |\n",
    "| ``a // b``   | Floor division | Quotient of ``a`` and ``b``, removing fractional parts |\n",
    "| ``a % b``    | Modulus        | Integer remainder after division of ``a`` by ``b``     |\n",
    "| ``a ** b``   | Exponentiation | ``a`` raised to the power of ``b``                     |\n",
    "| ``-a``       | Negation       | The negative of ``a``                                  |\n",
    "\n",
    "<span style=\"display:none\"></span>\n"
   ]
  },
  {
   "cell_type": "code",
   "execution_count": 6,
   "id": "003bc3f0",
   "metadata": {
    "execution": {
     "iopub.execute_input": "2024-10-20T10:09:14.221196Z",
     "iopub.status.busy": "2024-10-20T10:09:14.220466Z",
     "iopub.status.idle": "2024-10-20T10:09:14.231318Z",
     "shell.execute_reply": "2024-10-20T10:09:14.230312Z"
    },
    "papermill": {
     "duration": 0.024804,
     "end_time": "2024-10-20T10:09:14.233594",
     "exception": false,
     "start_time": "2024-10-20T10:09:14.208790",
     "status": "completed"
    },
    "tags": []
   },
   "outputs": [
    {
     "name": "stdout",
     "output_type": "stream",
     "text": [
      "1.5\n",
      "7.0685775\n"
     ]
    },
    {
     "data": {
      "application/javascript": [
       "parent.postMessage({\"jupyterEvent\": \"custom.exercise_interaction\", \"data\": {\"outcomeType\": 1, \"valueTowardsCompletion\": 0.25, \"interactionType\": 1, \"questionType\": 1, \"questionId\": \"1_CircleArea\", \"learnToolsVersion\": \"0.3.4\", \"failureMessage\": \"\", \"exceptionClass\": \"\", \"trace\": \"\"}}, \"*\")"
      ],
      "text/plain": [
       "<IPython.core.display.Javascript object>"
      ]
     },
     "metadata": {},
     "output_type": "display_data"
    },
    {
     "data": {
      "text/markdown": [
       "<span style=\"color:#33cc33\">Correct</span>"
      ],
      "text/plain": [
       "Correct"
      ]
     },
     "metadata": {},
     "output_type": "display_data"
    }
   ],
   "source": [
    "pi = 3.14159 # approximate\n",
    "diameter = 3\n",
    "\n",
    "# Create a variable called 'radius' equal to half the diameter\n",
    "radius=diameter/2\n",
    "print(radius)\n",
    "\n",
    "\n",
    "# Create a variable called 'area', using the formula for the area of a circle: pi times the radius squared\n",
    "area=pi*(radius**2)\n",
    "print(area)\n",
    "\n",
    "# Check your answer\n",
    "q1.check()"
   ]
  },
  {
   "cell_type": "code",
   "execution_count": 7,
   "id": "dfdb6476",
   "metadata": {
    "execution": {
     "iopub.execute_input": "2024-10-20T10:09:14.258103Z",
     "iopub.status.busy": "2024-10-20T10:09:14.257361Z",
     "iopub.status.idle": "2024-10-20T10:09:14.261868Z",
     "shell.execute_reply": "2024-10-20T10:09:14.260847Z"
    },
    "papermill": {
     "duration": 0.01937,
     "end_time": "2024-10-20T10:09:14.264261",
     "exception": false,
     "start_time": "2024-10-20T10:09:14.244891",
     "status": "completed"
    },
    "tags": []
   },
   "outputs": [],
   "source": [
    "# Uncomment and run the lines below if you need help.\n",
    "#q1.hint()\n",
    "#q1.solution()"
   ]
  },
  {
   "cell_type": "markdown",
   "id": "5630e5a0",
   "metadata": {
    "papermill": {
     "duration": 0.010254,
     "end_time": "2024-10-20T10:09:14.285331",
     "exception": false,
     "start_time": "2024-10-20T10:09:14.275077",
     "status": "completed"
    },
    "tags": []
   },
   "source": [
    "<hr/>\n",
    "\n",
    "# 2.\n",
    "\n",
    "Add code to the following cell to swap variables `a` and `b` (so that `a` refers to the object previously referred to by `b` and vice versa)."
   ]
  },
  {
   "cell_type": "code",
   "execution_count": 8,
   "id": "01bc4631",
   "metadata": {
    "execution": {
     "iopub.execute_input": "2024-10-20T10:09:14.308573Z",
     "iopub.status.busy": "2024-10-20T10:09:14.307860Z",
     "iopub.status.idle": "2024-10-20T10:09:14.319386Z",
     "shell.execute_reply": "2024-10-20T10:09:14.318311Z"
    },
    "papermill": {
     "duration": 0.026015,
     "end_time": "2024-10-20T10:09:14.321867",
     "exception": false,
     "start_time": "2024-10-20T10:09:14.295852",
     "status": "completed"
    },
    "tags": []
   },
   "outputs": [
    {
     "name": "stdout",
     "output_type": "stream",
     "text": [
      "[3, 2, 1] [1, 2, 3]\n"
     ]
    },
    {
     "data": {
      "application/javascript": [
       "parent.postMessage({\"jupyterEvent\": \"custom.exercise_interaction\", \"data\": {\"outcomeType\": 1, \"valueTowardsCompletion\": 0.25, \"interactionType\": 1, \"questionType\": 2, \"questionId\": \"2_VariableSwap\", \"learnToolsVersion\": \"0.3.4\", \"failureMessage\": \"\", \"exceptionClass\": \"\", \"trace\": \"\"}}, \"*\")"
      ],
      "text/plain": [
       "<IPython.core.display.Javascript object>"
      ]
     },
     "metadata": {},
     "output_type": "display_data"
    },
    {
     "data": {
      "text/markdown": [
       "<span style=\"color:#33cc33\">Correct:</span> \n",
       "\n",
       "The most straightforward solution is to use a third variable to temporarily store one of the old values. e.g.:\n",
       "\n",
       "    tmp = a\n",
       "    a = b\n",
       "    b = tmp\n",
       "\n",
       "If you've read lots of Python code, you might have seen the following trick to swap two variables in one line:\n",
       "\n",
       "    a, b = b, a\n",
       "\n",
       "We'll demystify this bit of Python magic later when we talk about *tuples*."
      ],
      "text/plain": [
       "Correct: \n",
       "\n",
       "The most straightforward solution is to use a third variable to temporarily store one of the old values. e.g.:\n",
       "\n",
       "    tmp = a\n",
       "    a = b\n",
       "    b = tmp\n",
       "\n",
       "If you've read lots of Python code, you might have seen the following trick to swap two variables in one line:\n",
       "\n",
       "    a, b = b, a\n",
       "\n",
       "We'll demystify this bit of Python magic later when we talk about *tuples*."
      ]
     },
     "metadata": {},
     "output_type": "display_data"
    }
   ],
   "source": [
    "########### Setup code - don't touch this part ######################\n",
    "# If you're curious, these are examples of lists. We'll talk about \n",
    "# them in depth a few lessons from now. For now, just know that they're\n",
    "# yet another type of Python object, like int or float.\n",
    "a = [1, 2, 3]\n",
    "b = [3, 2, 1]\n",
    "q2.store_original_ids()\n",
    "######################################################################\n",
    "\n",
    "# Your code goes here. Swap the values to which a and b refer.\n",
    "# If you get stuck, you can always uncomment one or both of the lines in\n",
    "# the next cell for a hint, or to peek at the solution.\n",
    "\n",
    "\n",
    "a,b=b,a\n",
    "print(a,b)\n",
    "######################################################################\n",
    "\n",
    "# Check your answer\n",
    "q2.check()"
   ]
  },
  {
   "cell_type": "code",
   "execution_count": 9,
   "id": "3dbde18d",
   "metadata": {
    "execution": {
     "iopub.execute_input": "2024-10-20T10:09:14.345895Z",
     "iopub.status.busy": "2024-10-20T10:09:14.345133Z",
     "iopub.status.idle": "2024-10-20T10:09:14.354075Z",
     "shell.execute_reply": "2024-10-20T10:09:14.353040Z"
    },
    "papermill": {
     "duration": 0.023673,
     "end_time": "2024-10-20T10:09:14.356568",
     "exception": false,
     "start_time": "2024-10-20T10:09:14.332895",
     "status": "completed"
    },
    "tags": []
   },
   "outputs": [
    {
     "data": {
      "application/javascript": [
       "parent.postMessage({\"jupyterEvent\": \"custom.exercise_interaction\", \"data\": {\"interactionType\": 2, \"questionType\": 2, \"questionId\": \"2_VariableSwap\", \"learnToolsVersion\": \"0.3.4\", \"valueTowardsCompletion\": 0.0, \"failureMessage\": \"\", \"exceptionClass\": \"\", \"trace\": \"\", \"outcomeType\": 4}}, \"*\")"
      ],
      "text/plain": [
       "<IPython.core.display.Javascript object>"
      ]
     },
     "metadata": {},
     "output_type": "display_data"
    },
    {
     "data": {
      "text/markdown": [
       "<span style=\"color:#3366cc\">Hint:</span> Try using a third variable."
      ],
      "text/plain": [
       "Hint: Try using a third variable."
      ]
     },
     "metadata": {},
     "output_type": "display_data"
    }
   ],
   "source": [
    "q2.hint()\n"
   ]
  },
  {
   "cell_type": "code",
   "execution_count": 10,
   "id": "6b275abe",
   "metadata": {
    "execution": {
     "iopub.execute_input": "2024-10-20T10:09:14.381507Z",
     "iopub.status.busy": "2024-10-20T10:09:14.380715Z",
     "iopub.status.idle": "2024-10-20T10:09:14.389336Z",
     "shell.execute_reply": "2024-10-20T10:09:14.388274Z"
    },
    "papermill": {
     "duration": 0.023739,
     "end_time": "2024-10-20T10:09:14.391787",
     "exception": false,
     "start_time": "2024-10-20T10:09:14.368048",
     "status": "completed"
    },
    "tags": []
   },
   "outputs": [
    {
     "data": {
      "application/javascript": [
       "parent.postMessage({\"jupyterEvent\": \"custom.exercise_interaction\", \"data\": {\"interactionType\": 3, \"questionType\": 2, \"questionId\": \"2_VariableSwap\", \"learnToolsVersion\": \"0.3.4\", \"valueTowardsCompletion\": 0.0, \"failureMessage\": \"\", \"exceptionClass\": \"\", \"trace\": \"\", \"outcomeType\": 4}}, \"*\")"
      ],
      "text/plain": [
       "<IPython.core.display.Javascript object>"
      ]
     },
     "metadata": {},
     "output_type": "display_data"
    },
    {
     "data": {
      "text/markdown": [
       "<span style=\"color:#33cc99\">Solution:</span> The most straightforward solution is to use a third variable to temporarily store one of the old values. e.g.:\n",
       "\n",
       "    tmp = a\n",
       "    a = b\n",
       "    b = tmp\n",
       "\n",
       "If you've read lots of Python code, you might have seen the following trick to swap two variables in one line:\n",
       "\n",
       "    a, b = b, a\n",
       "\n",
       "We'll demystify this bit of Python magic later when we talk about *tuples*."
      ],
      "text/plain": [
       "Solution: The most straightforward solution is to use a third variable to temporarily store one of the old values. e.g.:\n",
       "\n",
       "    tmp = a\n",
       "    a = b\n",
       "    b = tmp\n",
       "\n",
       "If you've read lots of Python code, you might have seen the following trick to swap two variables in one line:\n",
       "\n",
       "    a, b = b, a\n",
       "\n",
       "We'll demystify this bit of Python magic later when we talk about *tuples*."
      ]
     },
     "metadata": {},
     "output_type": "display_data"
    }
   ],
   "source": [
    "q2.solution()"
   ]
  },
  {
   "cell_type": "markdown",
   "id": "2fb0dc28",
   "metadata": {
    "papermill": {
     "duration": 0.011964,
     "end_time": "2024-10-20T10:09:14.415481",
     "exception": false,
     "start_time": "2024-10-20T10:09:14.403517",
     "status": "completed"
    },
    "tags": []
   },
   "source": [
    "<hr/>\n",
    "\n",
    "# 3a.\n",
    "\n",
    "Add parentheses to the following expression so that it evaluates to 1."
   ]
  },
  {
   "cell_type": "code",
   "execution_count": 11,
   "id": "e910b02d",
   "metadata": {
    "execution": {
     "iopub.execute_input": "2024-10-20T10:09:14.440996Z",
     "iopub.status.busy": "2024-10-20T10:09:14.440264Z",
     "iopub.status.idle": "2024-10-20T10:09:14.446024Z",
     "shell.execute_reply": "2024-10-20T10:09:14.445024Z"
    },
    "papermill": {
     "duration": 0.021574,
     "end_time": "2024-10-20T10:09:14.448845",
     "exception": false,
     "start_time": "2024-10-20T10:09:14.427271",
     "status": "completed"
    },
    "tags": []
   },
   "outputs": [
    {
     "name": "stdout",
     "output_type": "stream",
     "text": [
      "1\n"
     ]
    }
   ],
   "source": [
    "a=(5 - 3) // 2\n",
    "print(a)"
   ]
  },
  {
   "cell_type": "code",
   "execution_count": 12,
   "id": "cc44e0e0",
   "metadata": {
    "execution": {
     "iopub.execute_input": "2024-10-20T10:09:14.474299Z",
     "iopub.status.busy": "2024-10-20T10:09:14.473883Z",
     "iopub.status.idle": "2024-10-20T10:09:14.478355Z",
     "shell.execute_reply": "2024-10-20T10:09:14.477385Z"
    },
    "papermill": {
     "duration": 0.020005,
     "end_time": "2024-10-20T10:09:14.480803",
     "exception": false,
     "start_time": "2024-10-20T10:09:14.460798",
     "status": "completed"
    },
    "tags": []
   },
   "outputs": [],
   "source": [
    "#q3.a.hint()"
   ]
  },
  {
   "cell_type": "code",
   "execution_count": 13,
   "id": "cd5144f7",
   "metadata": {
    "execution": {
     "iopub.execute_input": "2024-10-20T10:09:14.507006Z",
     "iopub.status.busy": "2024-10-20T10:09:14.506114Z",
     "iopub.status.idle": "2024-10-20T10:09:14.515134Z",
     "shell.execute_reply": "2024-10-20T10:09:14.514078Z"
    },
    "papermill": {
     "duration": 0.024855,
     "end_time": "2024-10-20T10:09:14.517588",
     "exception": false,
     "start_time": "2024-10-20T10:09:14.492733",
     "status": "completed"
    },
    "tags": []
   },
   "outputs": [
    {
     "data": {
      "application/javascript": [
       "parent.postMessage({\"jupyterEvent\": \"custom.exercise_interaction\", \"data\": {\"interactionType\": 3, \"questionType\": 4, \"questionId\": \"3.1_ArithmeticParensEasy\", \"learnToolsVersion\": \"0.3.4\", \"valueTowardsCompletion\": 0.0, \"failureMessage\": \"\", \"exceptionClass\": \"\", \"trace\": \"\", \"outcomeType\": 4}}, \"*\")"
      ],
      "text/plain": [
       "<IPython.core.display.Javascript object>"
      ]
     },
     "metadata": {},
     "output_type": "display_data"
    },
    {
     "data": {
      "text/markdown": [
       "<span style=\"color:#33cc99\">Solution:</span> \n",
       "```python\n",
       "(5 - 3) // 2\n",
       "```"
      ],
      "text/plain": [
       "Solution: \n",
       "```python\n",
       "(5 - 3) // 2\n",
       "```"
      ]
     },
     "metadata": {},
     "output_type": "display_data"
    }
   ],
   "source": [
    "# Check your answer (Run this code cell to receive credit!)\n",
    "q3.a.solution()"
   ]
  },
  {
   "cell_type": "markdown",
   "id": "64418a8a",
   "metadata": {
    "papermill": {
     "duration": 0.012079,
     "end_time": "2024-10-20T10:09:14.541777",
     "exception": false,
     "start_time": "2024-10-20T10:09:14.529698",
     "status": "completed"
    },
    "tags": []
   },
   "source": [
    "# 3b.  <span title=\"A bit spicy\" style=\"color: darkgreen \">🌶️</span>\n",
    "\n",
    "<small>Questions, like this one, marked a spicy pepper are a bit harder.</small>\n",
    "\n",
    "Add parentheses to the following expression so that it evaluates to 0."
   ]
  },
  {
   "cell_type": "code",
   "execution_count": 14,
   "id": "80266c04",
   "metadata": {
    "execution": {
     "iopub.execute_input": "2024-10-20T10:09:14.568216Z",
     "iopub.status.busy": "2024-10-20T10:09:14.567466Z",
     "iopub.status.idle": "2024-10-20T10:09:14.574462Z",
     "shell.execute_reply": "2024-10-20T10:09:14.573420Z"
    },
    "papermill": {
     "duration": 0.022964,
     "end_time": "2024-10-20T10:09:14.576913",
     "exception": false,
     "start_time": "2024-10-20T10:09:14.553949",
     "status": "completed"
    },
    "tags": []
   },
   "outputs": [
    {
     "data": {
      "text/plain": [
       "0"
      ]
     },
     "execution_count": 14,
     "metadata": {},
     "output_type": "execute_result"
    }
   ],
   "source": [
    "8 - 3 * 2 - (1 + 1)"
   ]
  },
  {
   "cell_type": "code",
   "execution_count": 15,
   "id": "88d7f45a",
   "metadata": {
    "execution": {
     "iopub.execute_input": "2024-10-20T10:09:14.603917Z",
     "iopub.status.busy": "2024-10-20T10:09:14.603523Z",
     "iopub.status.idle": "2024-10-20T10:09:14.608141Z",
     "shell.execute_reply": "2024-10-20T10:09:14.607098Z"
    },
    "papermill": {
     "duration": 0.020683,
     "end_time": "2024-10-20T10:09:14.610498",
     "exception": false,
     "start_time": "2024-10-20T10:09:14.589815",
     "status": "completed"
    },
    "tags": []
   },
   "outputs": [],
   "source": [
    "#q3.b.hint()"
   ]
  },
  {
   "cell_type": "code",
   "execution_count": 16,
   "id": "6e01e1c5",
   "metadata": {
    "execution": {
     "iopub.execute_input": "2024-10-20T10:09:14.637368Z",
     "iopub.status.busy": "2024-10-20T10:09:14.636408Z",
     "iopub.status.idle": "2024-10-20T10:09:14.645480Z",
     "shell.execute_reply": "2024-10-20T10:09:14.644293Z"
    },
    "papermill": {
     "duration": 0.024951,
     "end_time": "2024-10-20T10:09:14.647870",
     "exception": false,
     "start_time": "2024-10-20T10:09:14.622919",
     "status": "completed"
    },
    "tags": []
   },
   "outputs": [
    {
     "data": {
      "application/javascript": [
       "parent.postMessage({\"jupyterEvent\": \"custom.exercise_interaction\", \"data\": {\"interactionType\": 3, \"questionType\": 4, \"questionId\": \"3.2_ArithmeticParensHard\", \"learnToolsVersion\": \"0.3.4\", \"valueTowardsCompletion\": 0.0, \"failureMessage\": \"\", \"exceptionClass\": \"\", \"trace\": \"\", \"outcomeType\": 4}}, \"*\")"
      ],
      "text/plain": [
       "<IPython.core.display.Javascript object>"
      ]
     },
     "metadata": {},
     "output_type": "display_data"
    },
    {
     "data": {
      "text/markdown": [
       "<span style=\"color:#33cc99\">Solution:</span> `(8 - 3) * (2 - (1 + 1))` is one solution. There may be others."
      ],
      "text/plain": [
       "Solution: `(8 - 3) * (2 - (1 + 1))` is one solution. There may be others."
      ]
     },
     "metadata": {},
     "output_type": "display_data"
    }
   ],
   "source": [
    "# Check your answer (Run this code cell to receive credit!)\n",
    "q3.b.solution()"
   ]
  },
  {
   "cell_type": "markdown",
   "id": "b36d4b21",
   "metadata": {
    "papermill": {
     "duration": 0.012662,
     "end_time": "2024-10-20T10:09:14.673530",
     "exception": false,
     "start_time": "2024-10-20T10:09:14.660868",
     "status": "completed"
    },
    "tags": []
   },
   "source": [
    "<hr/>\n",
    "\n",
    "# 4. \n",
    "Alice, Bob and Carol have agreed to pool their Halloween candy and split it evenly among themselves.\n",
    "For the sake of their friendship, any candies left over will be smashed. For example, if they collectively\n",
    "bring home 91 candies, they'll take 30 each and smash 1.\n",
    "\n",
    "Write an arithmetic expression below to calculate how many candies they must smash for a given haul."
   ]
  },
  {
   "cell_type": "code",
   "execution_count": 17,
   "id": "437436c7",
   "metadata": {
    "execution": {
     "iopub.execute_input": "2024-10-20T10:09:14.701794Z",
     "iopub.status.busy": "2024-10-20T10:09:14.700874Z",
     "iopub.status.idle": "2024-10-20T10:09:14.711989Z",
     "shell.execute_reply": "2024-10-20T10:09:14.710879Z"
    },
    "papermill": {
     "duration": 0.028321,
     "end_time": "2024-10-20T10:09:14.714659",
     "exception": false,
     "start_time": "2024-10-20T10:09:14.686338",
     "status": "completed"
    },
    "tags": []
   },
   "outputs": [
    {
     "name": "stdout",
     "output_type": "stream",
     "text": [
      "1\n"
     ]
    },
    {
     "data": {
      "application/javascript": [
       "parent.postMessage({\"jupyterEvent\": \"custom.exercise_interaction\", \"data\": {\"outcomeType\": 1, \"valueTowardsCompletion\": 0.25, \"interactionType\": 1, \"questionType\": 1, \"questionId\": \"4_CandySplitting\", \"learnToolsVersion\": \"0.3.4\", \"failureMessage\": \"\", \"exceptionClass\": \"\", \"trace\": \"\"}}, \"*\")"
      ],
      "text/plain": [
       "<IPython.core.display.Javascript object>"
      ]
     },
     "metadata": {},
     "output_type": "display_data"
    },
    {
     "data": {
      "text/markdown": [
       "<span style=\"color:#33cc33\">Correct</span>"
      ],
      "text/plain": [
       "Correct"
      ]
     },
     "metadata": {},
     "output_type": "display_data"
    }
   ],
   "source": [
    "# Variables representing the number of candies collected by alice, bob, and carol\n",
    "alice_candies = 121\n",
    "bob_candies = 77\n",
    "carol_candies = 109\n",
    "\n",
    "# Your code goes here! Replace the right-hand side of this assignment with an expression\n",
    "# involving alice_candies, bob_candies, and carol_candies\n",
    "total_candies=alice_candies+bob_candies+carol_candies\n",
    "rem_candies=total_candies%3\n",
    "to_smash = rem_candies\n",
    "print(to_smash)\n",
    "# Check your answerz\n",
    "q4.check()"
   ]
  },
  {
   "cell_type": "code",
   "execution_count": 18,
   "id": "b7ebe028",
   "metadata": {
    "execution": {
     "iopub.execute_input": "2024-10-20T10:09:14.743187Z",
     "iopub.status.busy": "2024-10-20T10:09:14.742479Z",
     "iopub.status.idle": "2024-10-20T10:09:14.746851Z",
     "shell.execute_reply": "2024-10-20T10:09:14.745843Z"
    },
    "papermill": {
     "duration": 0.021332,
     "end_time": "2024-10-20T10:09:14.749296",
     "exception": false,
     "start_time": "2024-10-20T10:09:14.727964",
     "status": "completed"
    },
    "tags": []
   },
   "outputs": [],
   "source": [
    "#q4.hint()\n",
    "#q4.solution()"
   ]
  },
  {
   "cell_type": "markdown",
   "id": "3867b659",
   "metadata": {
    "papermill": {
     "duration": 0.012909,
     "end_time": "2024-10-20T10:09:14.775558",
     "exception": false,
     "start_time": "2024-10-20T10:09:14.762649",
     "status": "completed"
    },
    "tags": []
   },
   "source": [
    "# Keep Going\n",
    "\n",
    "Next up, you'll **[learn to write new functions and understand functions others write](https://www.kaggle.com/colinmorris/functions-and-getting-help)**. This will make you at least 10 times more productive as a Python programmer. "
   ]
  },
  {
   "cell_type": "markdown",
   "id": "ab99f756",
   "metadata": {
    "papermill": {
     "duration": 0.012826,
     "end_time": "2024-10-20T10:09:14.801979",
     "exception": false,
     "start_time": "2024-10-20T10:09:14.789153",
     "status": "completed"
    },
    "tags": []
   },
   "source": [
    "---\n",
    "\n",
    "\n",
    "\n",
    "\n",
    "*Have questions or comments? Visit the [course discussion forum](https://www.kaggle.com/learn/python/discussion) to chat with other learners.*"
   ]
  },
  {
   "cell_type": "code",
   "execution_count": null,
   "id": "70718f92",
   "metadata": {
    "jupyter": {
     "source_hidden": true
    },
    "papermill": {
     "duration": 0.01308,
     "end_time": "2024-10-20T10:09:14.828258",
     "exception": false,
     "start_time": "2024-10-20T10:09:14.815178",
     "status": "completed"
    },
    "tags": []
   },
   "outputs": [],
   "source": []
  }
 ],
 "metadata": {
  "kaggle": {
   "accelerator": "none",
   "dataSources": [],
   "isGpuEnabled": false,
   "isInternetEnabled": false,
   "language": "python",
   "sourceType": "notebook"
  },
  "kernelspec": {
   "display_name": "Python 3",
   "language": "python",
   "name": "python3"
  },
  "language_info": {
   "codemirror_mode": {
    "name": "ipython",
    "version": 3
   },
   "file_extension": ".py",
   "mimetype": "text/x-python",
   "name": "python",
   "nbconvert_exporter": "python",
   "pygments_lexer": "ipython3",
   "version": "3.10.14"
  },
  "learntools_metadata": {
   "lesson_index": 0,
   "type": "exercise"
  },
  "papermill": {
   "default_parameters": {},
   "duration": 5.467296,
   "end_time": "2024-10-20T10:09:15.362017",
   "environment_variables": {},
   "exception": null,
   "input_path": "__notebook__.ipynb",
   "output_path": "__notebook__.ipynb",
   "parameters": {},
   "start_time": "2024-10-20T10:09:09.894721",
   "version": "2.6.0"
  }
 },
 "nbformat": 4,
 "nbformat_minor": 5
}
