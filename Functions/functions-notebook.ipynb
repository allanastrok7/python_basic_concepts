{
 "cells": [
  {
   "cell_type": "markdown",
   "metadata": {},
   "source": [
    "# Functions\n",
    "\n",
    "A function is basically a package of procedures that can be reused multiple times. \n",
    "\n",
    "Helps you to reuse code avoiding copying and pasting that causes code reduancy in your python program\n",
    "\n",
    "Pythons functions comes in sets and written either of this two ways:{using def(), and lambda()}"
   ]
  },
  {
   "cell_type": "markdown",
   "metadata": {},
   "source": [
    "## Writing Functions in Python"
   ]
  },
  {
   "cell_type": "markdown",
   "metadata": {},
   "source": [
    "There are two ways used to send results back to user or return output of a function: {Using the return and yeild(print) keywords} \n",
    "\n",
    "An example of a functions used to perfom a fibonacci series operation\n",
    "\n",
    "This is type of function that performs a task (cos of the use of yield keywords)"
   ]
  },
  {
   "cell_type": "code",
   "execution_count": 2,
   "metadata": {},
   "outputs": [
    {
     "name": "stdout",
     "output_type": "stream",
     "text": [
      "0 1 1 2 3 5 8 13 21 34 55 89 144 233 377 610 987 1597 \n"
     ]
    }
   ],
   "source": [
    "def fib(n):\n",
    "    a,b=0,1\n",
    "    while a< n:\n",
    "        print(a, end=' ') # the end='' allows you to print items on the same line\n",
    "        a,b=b,a+b\n",
    "    print()    \n",
    "fib(2000)"
   ]
  },
  {
   "cell_type": "markdown",
   "metadata": {},
   "source": [
    "## Parameters in python's functions\n",
    "The function takes in parameters which will enables you to pass later on pass arguments.\n",
    "\n",
    "The arguments you pass allows you to know how the control the output of the function."
   ]
  },
  {
   "cell_type": "code",
   "execution_count": 3,
   "metadata": {},
   "outputs": [
    {
     "name": "stdout",
     "output_type": "stream",
     "text": [
      "Hello Allan Alekey\n",
      "Welcome Aboard\n",
      "Hello Bran theGreat\n",
      "Welcome Aboard\n"
     ]
    }
   ],
   "source": [
    "def greet(first_name,last_name): # the parameters\n",
    "    print(f\"Hello {first_name} {last_name}\")\n",
    "    print(\"Welcome Aboard\")\n",
    "greet(\"Allan\",\"Alekey\") # Argument 1\n",
    "greet(\"Bran\",\"theGreat\") # Argument 2"
   ]
  },
  {
   "cell_type": "markdown",
   "metadata": {},
   "source": [
    "First two functions used above are of perfom a task\n",
    "\n",
    "Another types of a function is that which returns a value"
   ]
  },
  {
   "cell_type": "code",
   "execution_count": 9,
   "metadata": {},
   "outputs": [
    {
     "name": "stdout",
     "output_type": "stream",
     "text": [
      "True lordstark's death of house stark was a horrid one. Killed through beheading\n",
      "Din't know catlyn died from cut to the throat so sad to hear that\n"
     ]
    }
   ],
   "source": [
    "\n",
    "def dead_got_characters(actor_name,house_name, died_by='beheading'): # the last parameter can have a default value to be used if an argument is not passed\n",
    "    for char in actor_name:\n",
    "        if actor_name=='lordstark':\n",
    "            return f\"True {actor_name}'s death of house {house_name} was a horrid one. Killed through {died_by}\"\n",
    "        if actor_name=='geofrey':\n",
    "            return f\"\"\"Yes King {actor_name} of the house {house_name} died a horrible death;{died_by} Deserved it though\"\"\"\n",
    "        else:\n",
    "            return print(f\"\"\"Din't know {actor_name} died from {died_by} so sad to hear that\"\"\") # the print function changes the output\n",
    "\n",
    "print(dead_got_characters(\"lordstark\",\"stark\",\"beheading\"))\n",
    "dead_got_characters(\"geofrey\",\"baratheon\")\n",
    "dead_got_characters(\"geofrey\",\"baratheon\",\"poisoned by the Queen of thorns\")\n",
    "dead_got_characters(\"catlyn\",\"stark\",'cut to the throat')"
   ]
  },
  {
   "cell_type": "markdown",
   "metadata": {},
   "source": [
    "## Default arguments\n",
    "\n",
    "python has vatrious applications for example:\n",
    "\n",
    "This simple fn wants to find out if the person or user is ok"
   ]
  },
  {
   "cell_type": "markdown",
   "metadata": {},
   "source": []
  },
  {
   "cell_type": "code",
   "execution_count": null,
   "metadata": {},
   "outputs": [],
   "source": [
    "def is_user_ok(prompt,retries=4,reminder=\"Please try again\"):\n",
    "    response=input(prompt)\n",
    "    if yes in response:\n",
    "        return true\n",
    "    else:\n",
    "        return false\n",
    "is_user_ok(\"yes\")\n",
    "is_user_ok('n')\n",
    "\n",
    "## this code to be corrected later"
   ]
  },
  {
   "cell_type": "markdown",
   "metadata": {},
   "source": [
    "### when are default arguments in python created?\n",
    "\n",
    "They are created immediately the function is declared not when the function is being called. As such the result of the code below is 5 and not 6  "
   ]
  },
  {
   "cell_type": "code",
   "execution_count": 11,
   "metadata": {},
   "outputs": [
    {
     "name": "stdout",
     "output_type": "stream",
     "text": [
      "5\n"
     ]
    }
   ],
   "source": [
    "i = 5\n",
    "def f(arg=i):\n",
    "    print(arg)\n",
    "i = 6\n",
    "f()"
   ]
  },
  {
   "cell_type": "markdown",
   "metadata": {},
   "source": [
    "Functions that return values are flexible because you can store them in a variable to be used when called upon\n",
    "\n",
    "The following function works like the built in <span style=\"color:green;\">***len()***</span> function of  to print out the length of a string.\n",
    "\n",
    "\n",
    "\n"
   ]
  },
  {
   "cell_type": "code",
   "execution_count": 12,
   "metadata": {},
   "outputs": [
    {
     "name": "stdout",
     "output_type": "stream",
     "text": [
      "5\n"
     ]
    }
   ],
   "source": [
    "def string_len(s):\n",
    "    count=0\n",
    "    for len in s:\n",
    "        count+=1 #a short form of count=count+1\n",
    "    return count  \n",
    "my_string=string_len(\"water\")\n",
    "print(my_string)\n"
   ]
  },
  {
   "cell_type": "markdown",
   "metadata": {},
   "source": [
    "Modifiying the above code of fibonacci series so that its returns a value and add the value to a list. \n"
   ]
  },
  {
   "cell_type": "code",
   "execution_count": 14,
   "metadata": {},
   "outputs": [
    {
     "name": "stdout",
     "output_type": "stream",
     "text": [
      "[0, 1, 1, 2, 3, 5, 8, 13, 21, 34, 55, 89, 144, 233, 377, 610, 987]\n"
     ]
    }
   ],
   "source": [
    "def fib_series(numbers):\n",
    "    result=[]\n",
    "    a,b=0,1\n",
    "    while a <numbers:\n",
    "        result.append(a)\n",
    "        a,b=b,a+b\n",
    "    return(result)\n",
    "\n",
    "new_fb_series=fib_series(1000)\n",
    "print(new_fb_series)   "
   ]
  },
  {
   "cell_type": "markdown",
   "metadata": {},
   "source": [
    "## Multiple Arguments In Python\n",
    "\n",
    "We use the following syntaxes *ARGUMENT & **ARGUMENT"
   ]
  },
  {
   "cell_type": "code",
   "execution_count": 15,
   "metadata": {},
   "outputs": [
    {
     "data": {
      "text/plain": [
       "20"
      ]
     },
     "execution_count": 15,
     "metadata": {},
     "output_type": "execute_result"
    }
   ],
   "source": [
    "def numbers(*nums):\n",
    "    total=1\n",
    "    for digit in nums:\n",
    "        total*=digit\n",
    "    return(total)\n",
    "numbers(1,5,4)"
   ]
  },
  {
   "cell_type": "markdown",
   "metadata": {},
   "source": [
    "Creating a dictionary item using the double **ARSTERIK\n"
   ]
  },
  {
   "cell_type": "code",
   "execution_count": 16,
   "metadata": {},
   "outputs": [
    {
     "name": "stdout",
     "output_type": "stream",
     "text": [
      "{'name': 'JhonSnow', 'house_name': 'Housestark', 'real_name': 'Kit Harrington', 'age': 38, 'other_info': 'English Boy'}\n",
      "JhonSnow\n"
     ]
    }
   ],
   "source": [
    "def fav_got_character(**got_member):\n",
    "    print(got_member) \n",
    "    #to get a specific value from the dictionary:\n",
    "    print(got_member[\"name\"])\n",
    "fav_got_character (name=\"JhonSnow\",house_name='Housestark', real_name='Kit Harrington', age=(2024-1986), other_info='English Boy')\n"
   ]
  },
  {
   "cell_type": "markdown",
   "metadata": {},
   "source": [
    "## Key-Word And Positional Only Arguments\n",
    "\n",
    "They determine how you will pass arguments to your python code\n",
    "\n",
    "Below is a diagram that explains types of arguments in relation to where they are placed in a functions"
   ]
  },
  {
   "cell_type": "markdown",
   "metadata": {},
   "source": [
    "\n",
    "      \n",
    "    def f(pos1, pos2, /, pos_or_kwd, *, kwd1, kwd2):\n",
    "      -----------    ----------     ----------\n",
    "        |             |                  |\n",
    "        |        Positional or keyword   |\n",
    "        |                                - Keyword only\n",
    "         -- Positional only\n",
    "      \n",
    "           \n",
    "    \n"
   ]
  },
  {
   "cell_type": "code",
   "execution_count": 19,
   "metadata": {},
   "outputs": [
    {
     "name": "stdout",
     "output_type": "stream",
     "text": [
      "20\n",
      "20\n"
     ]
    }
   ],
   "source": [
    "def normal_arg(name,age):\n",
    "    print(age)\n",
    "normal_arg(\"allan\",20)\n",
    "\n",
    "def normal_arg(name,*,age):\n",
    "    print(age)\n",
    "\n",
    "normal_arg(\"allan\",age=20)\n",
    "\n",
    "#normal_arg(\"allan\",20)"
   ]
  },
  {
   "cell_type": "markdown",
   "metadata": {},
   "source": [
    "## Scope Visibility\n",
    "A scope is a region of the code where a variable is defined\n",
    "\n",
    "We have global and local scopes.\n",
    "\n",
    "Scope visibility in python's function refers to how you can access and change the variables in the functions.\n",
    "\n",
    "Scope visisbilty Done in two ways: \n",
    "\n",
    "Using the ***local()*** scope from variables outside the function and,\n",
    "\n",
    "Using the the nonlocal scope for nested functions:"
   ]
  },
  {
   "cell_type": "code",
   "execution_count": 20,
   "metadata": {},
   "outputs": [
    {
     "name": "stdout",
     "output_type": "stream",
     "text": [
      "hi\n",
      "hello\n"
     ]
    }
   ],
   "source": [
    "message=\"hello\" # global variable accessible outside the function\n",
    "def greet(name):\n",
    "    message=\"hi\" # local variable accesible only inside this function\n",
    "    print(message)\n",
    "greet(\"mosh\")\n",
    "print(message)"
   ]
  },
  {
   "cell_type": "markdown",
   "metadata": {},
   "source": [
    "## Lambda Expressions in python\n",
    "Used to create small functions without names. Are ussually one line"
   ]
  },
  {
   "cell_type": "code",
   "execution_count": 21,
   "metadata": {},
   "outputs": [
    {
     "name": "stdout",
     "output_type": "stream",
     "text": [
      "7\n",
      "5\n"
     ]
    }
   ],
   "source": [
    "square=lambda x: x+2\n",
    "print(square(5))\n",
    "# Can take multiple arguments.\n",
    "subtract=lambda x,t:x-t\n",
    "print(subtract(10,5))"
   ]
  },
  {
   "cell_type": "code",
   "execution_count": null,
   "metadata": {},
   "outputs": [],
   "source": [
    "def greet(name: str) -> str:\n",
    "    \"\"\"\n",
    "    This function takes a name as input and returns a greeting message.\n",
    "    \n",
    "    Args:\n",
    "        name (str): The name of the person to greet.\n",
    "    \n",
    "    Returns:\n",
    "        str: A greeting message.\n",
    "    \n",
    "    Example:\n",
    "        >>> greet(\"Alice\")\n",
    "        'Hello, Alice!'\n",
    "    \"\"\"\n",
    "    return f\"Hello, {name}!\"\n",
    "#greet()"
   ]
  },
  {
   "cell_type": "code",
   "execution_count": null,
   "metadata": {},
   "outputs": [],
   "source": []
  }
 ],
 "metadata": {
  "kernelspec": {
   "display_name": "Python 3",
   "language": "python",
   "name": "python3"
  },
  "language_info": {
   "codemirror_mode": {
    "name": "ipython",
    "version": 3
   },
   "file_extension": ".py",
   "mimetype": "text/x-python",
   "name": "python",
   "nbconvert_exporter": "python",
   "pygments_lexer": "ipython3",
   "version": "3.13.0"
  }
 },
 "nbformat": 4,
 "nbformat_minor": 2
}
