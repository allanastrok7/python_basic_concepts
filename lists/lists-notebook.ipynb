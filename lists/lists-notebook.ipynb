{
 "cells": [
  {
   "cell_type": "markdown",
   "metadata": {},
   "source": [
    "## We Now Move To ***LISTS[ ]***\n",
    "Are a type of sequence (like strigs,dict....etc). Lists are mutable datatypes(can be changed).\n",
    "\n",
    "Lists Have various methods for performing for manipulating items in a list such as:"
   ]
  },
  {
   "cell_type": "markdown",
   "metadata": {},
   "source": [
    "## List's Built-methods\n",
    "Allows you to perform various operations on the list items. Some of the common methods include:\n"
   ]
  },
  {
   "cell_type": "markdown",
   "metadata": {},
   "source": [
    "### The ***apppend()*** method"
   ]
  },
  {
   "cell_type": "code",
   "execution_count": 2,
   "metadata": {},
   "outputs": [
    {
     "name": "stdout",
     "output_type": "stream",
     "text": [
      "['arya', 'catlyn', 'sansa', 'Rob', 'Lordstark', 'jhonsnow']\n"
     ]
    }
   ],
   "source": [
    "house_bratheon=[]\n",
    "house_stark=['arya','catlyn','sansa','Rob','Lordstark']\n",
    "house_stark.append('jhonsnow')  # adds an item at the end of the list\n",
    "print(house_stark)"
   ]
  },
  {
   "cell_type": "markdown",
   "metadata": {},
   "source": [
    "### The ***insert()*** method\n",
    "Used to add an items to a list at specific location."
   ]
  },
  {
   "cell_type": "code",
   "execution_count": null,
   "metadata": {},
   "outputs": [],
   "source": [
    "lordstraks_kids=['Rob','Bran','Arya',]\n",
    "lordstraks_kids.insert(1,'sansa') # the insert method add items at a specified position\n",
    "lordstraks_kids.insert(len(lordstraks_kids),'jhonsnow') # works the same way like the .append method\n",
    "print(lordstraks_kids)"
   ]
  },
  {
   "cell_type": "markdown",
   "metadata": {},
   "source": [
    "### The ***pop([])*** method\n",
    "For removing items from a list. It also returns the item that you popped allow you to reuse it later.\n",
    "\n",
    "\n"
   ]
  },
  {
   "cell_type": "code",
   "execution_count": 6,
   "metadata": {},
   "outputs": [
    {
     "name": "stdout",
     "output_type": "stream",
     "text": [
      "3\n"
     ]
    }
   ],
   "source": [
    "numbers=[1,2,3,4,5]\n",
    "popped_num=numbers.pop(2)\n",
    "print(popped_num)\n"
   ]
  },
  {
   "cell_type": "markdown",
   "metadata": {},
   "source": [
    "The pop() is simmilar to the remove method only that remove does'nt return the item that has been excluded in the list\n"
   ]
  },
  {
   "cell_type": "code",
   "execution_count": 7,
   "metadata": {},
   "outputs": [
    {
     "name": "stdout",
     "output_type": "stream",
     "text": [
      "[1, 2, 5]\n"
     ]
    }
   ],
   "source": [
    "numbers.remove(numbers[2])\n",
    "print(numbers)"
   ]
  },
  {
   "cell_type": "markdown",
   "metadata": {},
   "source": [
    "### Reverse And Sort() Methods"
   ]
  },
  {
   "cell_type": "code",
   "execution_count": 10,
   "metadata": {},
   "outputs": [
    {
     "name": "stdout",
     "output_type": "stream",
     "text": [
      "['porridge', 'sodas', 'juice', 'beer', 'water']\n",
      "[9, 8, 7, 5, 4, 3, 3, 2, 1]\n"
     ]
    }
   ],
   "source": [
    "drink_types=['water','beer','juice','sodas','porridge']\n",
    "drink_types.reverse() # literally reverses them without sorting first\n",
    "print(drink_types)\n",
    "#SORT METHOD\n",
    "digits=[1,3,4,7,8,9,3,5,2]\n",
    "digits.sort() # sorts them in eithe ascending or descending order\n",
    "digits.sort(reverse=True)\n",
    "print(digits)"
   ]
  },
  {
   "cell_type": "markdown",
   "metadata": {},
   "source": [
    "## LIST COMPREHENSIONS (A fancy way of creating list)"
   ]
  },
  {
   "cell_type": "code",
   "execution_count": 8,
   "metadata": {},
   "outputs": [
    {
     "name": "stdout",
     "output_type": "stream",
     "text": [
      "[1, 4, 9, 16, 25, 36, 49, 64, 81]\n"
     ]
    }
   ],
   "source": [
    "#using the lambda expression\n",
    "square=list(map(lambda x:x**2,range(1,10)))\n",
    "print(square)"
   ]
  },
  {
   "cell_type": "markdown",
   "metadata": {},
   "source": [
    "### Creating a LIST from inputed string literals"
   ]
  },
  {
   "cell_type": "code",
   "execution_count": null,
   "metadata": {},
   "outputs": [],
   "source": [
    "your_fav_actor=(input(\"Please enter your Favourite GOT character: \")) #type in your GOT fan in the terminal when given the prompt\n",
    "print(your_fav_actor) # will return a string literal\n",
    "best_actors=[] #you cant add the input of y directtly intto the string coz it comes as a string and can't add [] + string together. \n",
    "best_actors.append(your_fav_actor) #use append instead.\n",
    "print(best_actors)"
   ]
  },
  {
   "cell_type": "markdown",
   "metadata": {},
   "source": [
    "## Accessing Items in a list\n",
    "You can pick out items from from a list using through ***indexing[]*** in relation to their position\n",
    "\n",
    "If you want to work on part of the list,***slices[:]*** can be useful in extraction a section of the list"
   ]
  },
  {
   "cell_type": "code",
   "execution_count": 13,
   "metadata": {},
   "outputs": [
    {
     "name": "stdout",
     "output_type": "stream",
     "text": [
      "['catlyn', 'Rob']\n",
      "['Lordstark']\n",
      "['Lordstark', 'catlyn', 'Rob', 'jhonsnow']\n"
     ]
    }
   ],
   "source": [
    "house_stark[1]  # get the pst of the item in a list using indexing\n",
    "dead_starks_sn3=[house_stark[1],house_stark[3]]\n",
    "dead_starks_sn1=[house_stark[-2]]\n",
    "dead_starks_sn6=[house_stark[-1]]\n",
    "dead_starks=[]+dead_starks_sn1+dead_starks_sn3+dead_starks_sn6 # performing addition operations in Lists\n",
    "#dead_starks_sn1\n",
    "#dead_starks_sn1.append('lordstark')\n",
    "print(dead_starks_sn3)\n",
    "print(dead_starks_sn1)\n",
    "print(dead_starks)   #an example in how you can create another list from the original one."
   ]
  },
  {
   "cell_type": "code",
   "execution_count": null,
   "metadata": {},
   "outputs": [],
   "source": []
  }
 ],
 "metadata": {
  "kernelspec": {
   "display_name": "Python 3",
   "language": "python",
   "name": "python3"
  },
  "language_info": {
   "codemirror_mode": {
    "name": "ipython",
    "version": 3
   },
   "file_extension": ".py",
   "mimetype": "text/x-python",
   "name": "python",
   "nbconvert_exporter": "python",
   "pygments_lexer": "ipython3",
   "version": "3.12.4"
  }
 },
 "nbformat": 4,
 "nbformat_minor": 2
}
